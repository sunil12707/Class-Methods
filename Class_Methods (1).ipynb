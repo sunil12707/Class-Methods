{
  "cells": [
    {
      "cell_type": "code",
      "execution_count": null,
      "id": "4dc41086-2d5b-465f-a672-a6836cc36f3d",
      "metadata": {
        "id": "4dc41086-2d5b-465f-a672-a6836cc36f3d"
      },
      "outputs": [],
      "source": [
        "class astra:\n",
        "\n",
        "    def __init__(self , name , email) :\n",
        "\n",
        "        self.name = name\n",
        "        self.email = email\n",
        "\n",
        "    def students_details(self):\n",
        "        print(self.name , self.email)"
      ]
    },
    {
      "cell_type": "code",
      "execution_count": null,
      "id": "68204b06-0147-4d1c-a930-6046f7abac70",
      "metadata": {
        "id": "68204b06-0147-4d1c-a930-6046f7abac70"
      },
      "outputs": [],
      "source": [
        "pw =astra(\"mohan\" , \"mohan@gmail.com\")"
      ]
    },
    {
      "cell_type": "code",
      "execution_count": null,
      "id": "82f1f470-8607-424d-81ea-9156b6605a1a",
      "metadata": {
        "colab": {
          "base_uri": "https://localhost:8080/",
          "height": 36
        },
        "id": "82f1f470-8607-424d-81ea-9156b6605a1a",
        "outputId": "f7603788-0e66-4575-c993-fa74d5d0ec8d"
      },
      "outputs": [
        {
          "output_type": "execute_result",
          "data": {
            "text/plain": [
              "'mohan'"
            ],
            "application/vnd.google.colaboratory.intrinsic+json": {
              "type": "string"
            }
          },
          "metadata": {},
          "execution_count": 3
        }
      ],
      "source": [
        "pw.name"
      ]
    },
    {
      "cell_type": "code",
      "execution_count": null,
      "id": "31325aae-adb0-4c79-9aa3-6ff13920aa6c",
      "metadata": {
        "colab": {
          "base_uri": "https://localhost:8080/",
          "height": 36
        },
        "id": "31325aae-adb0-4c79-9aa3-6ff13920aa6c",
        "outputId": "5cf482a7-8f3e-4cd1-cbc0-2d17453ae12d"
      },
      "outputs": [
        {
          "output_type": "execute_result",
          "data": {
            "text/plain": [
              "'mohan@gmail.com'"
            ],
            "application/vnd.google.colaboratory.intrinsic+json": {
              "type": "string"
            }
          },
          "metadata": {},
          "execution_count": 4
        }
      ],
      "source": [
        "pw.email"
      ]
    },
    {
      "cell_type": "code",
      "execution_count": null,
      "id": "84c12d7b-1674-48e7-8461-c574c417fa39",
      "metadata": {
        "colab": {
          "base_uri": "https://localhost:8080/"
        },
        "id": "84c12d7b-1674-48e7-8461-c574c417fa39",
        "outputId": "f9506440-f554-4d9e-e42f-59dad7baa76c"
      },
      "outputs": [
        {
          "output_type": "stream",
          "name": "stdout",
          "text": [
            "mohan mohan@gmail.com\n"
          ]
        }
      ],
      "source": [
        "pw.students_details()"
      ]
    },
    {
      "cell_type": "code",
      "execution_count": null,
      "id": "54119e14-59a1-4fff-8d42-4499fff53761",
      "metadata": {
        "id": "54119e14-59a1-4fff-8d42-4499fff53761"
      },
      "outputs": [],
      "source": [
        "class astra1 :\n",
        "\n",
        "    def __init__(self , name , email) :\n",
        "\n",
        "        self.name = name\n",
        "        self.email = email\n",
        "\n",
        "    @classmethod\n",
        "    def details(cls ,name, email ):\n",
        "        return cls(name , email)\n",
        "\n",
        "    def students_details(self):\n",
        "        print(self.name , self.email)"
      ]
    },
    {
      "cell_type": "code",
      "source": [
        "# pw1 =astra1.details()"
      ],
      "metadata": {
        "id": "gHi9pqIB5S-R"
      },
      "id": "gHi9pqIB5S-R",
      "execution_count": null,
      "outputs": []
    },
    {
      "cell_type": "code",
      "source": [
        "astra1.details(\"sudh\" , \"sudh@gmail.com\")"
      ],
      "metadata": {
        "colab": {
          "base_uri": "https://localhost:8080/"
        },
        "id": "UuMbhNRV5nli",
        "outputId": "dfa0245d-ca8b-478e-dfc5-f4ddd70daede"
      },
      "id": "UuMbhNRV5nli",
      "execution_count": null,
      "outputs": [
        {
          "output_type": "execute_result",
          "data": {
            "text/plain": [
              "<__main__.astra1 at 0x7ff28737b2e0>"
            ]
          },
          "metadata": {},
          "execution_count": 37
        }
      ]
    },
    {
      "cell_type": "code",
      "execution_count": null,
      "id": "06f8fcaf-7dc8-4441-a6f5-8eee018fe682",
      "metadata": {
        "id": "06f8fcaf-7dc8-4441-a6f5-8eee018fe682"
      },
      "outputs": [],
      "source": [
        "pw1 =astra1.details(\"sudh\" , \"sudh@gmail.com\")"
      ]
    },
    {
      "cell_type": "code",
      "execution_count": null,
      "id": "0eb2d310-5e24-44d1-9f1b-6688750c5bf2",
      "metadata": {
        "colab": {
          "base_uri": "https://localhost:8080/",
          "height": 36
        },
        "id": "0eb2d310-5e24-44d1-9f1b-6688750c5bf2",
        "outputId": "c5eaf13b-be8d-443d-8112-eab16365822c"
      },
      "outputs": [
        {
          "output_type": "execute_result",
          "data": {
            "text/plain": [
              "'sudh'"
            ],
            "application/vnd.google.colaboratory.intrinsic+json": {
              "type": "string"
            }
          },
          "metadata": {},
          "execution_count": 5
        }
      ],
      "source": [
        "pw1.name"
      ]
    },
    {
      "cell_type": "code",
      "execution_count": null,
      "id": "b7bebf70-178d-456c-a518-369b01f08c1b",
      "metadata": {
        "colab": {
          "base_uri": "https://localhost:8080/",
          "height": 36
        },
        "id": "b7bebf70-178d-456c-a518-369b01f08c1b",
        "outputId": "60958415-6638-40ba-c4be-ca9d957f741e"
      },
      "outputs": [
        {
          "output_type": "execute_result",
          "data": {
            "text/plain": [
              "'sudh@gmail.com'"
            ],
            "application/vnd.google.colaboratory.intrinsic+json": {
              "type": "string"
            }
          },
          "metadata": {},
          "execution_count": 6
        }
      ],
      "source": [
        "pw1.email"
      ]
    },
    {
      "cell_type": "code",
      "execution_count": null,
      "id": "a81ed801-e34a-4193-9ef5-c10bf8b1c93a",
      "metadata": {
        "colab": {
          "base_uri": "https://localhost:8080/"
        },
        "id": "a81ed801-e34a-4193-9ef5-c10bf8b1c93a",
        "outputId": "b5300aa5-17bc-4735-c6e9-a7203cc6351e"
      },
      "outputs": [
        {
          "output_type": "stream",
          "name": "stdout",
          "text": [
            "sudh sudh@gmail.com\n"
          ]
        }
      ],
      "source": [
        "pw1.students_details()"
      ]
    },
    {
      "cell_type": "code",
      "source": [
        "class astra2 :\n",
        "\n",
        "    mobile_num = 912342424\n",
        "\n",
        "    def __init__(self , name , email) :\n",
        "\n",
        "        self.name = name\n",
        "        self.email = email\n",
        "\n",
        "    @classmethod\n",
        "    def details(cls ,name, email ):\n",
        "        return cls(name , email)\n",
        "\n",
        "    def students_details(self):\n",
        "        print(self.name , self.email)"
      ],
      "metadata": {
        "id": "IRavA5WWvuvi"
      },
      "id": "IRavA5WWvuvi",
      "execution_count": null,
      "outputs": []
    },
    {
      "cell_type": "code",
      "source": [
        "astra2.mobile_num"
      ],
      "metadata": {
        "colab": {
          "base_uri": "https://localhost:8080/"
        },
        "id": "oCv7HaB0v4K6",
        "outputId": "78a9d247-2763-48d0-d19a-a718a4eeb4f0"
      },
      "id": "oCv7HaB0v4K6",
      "execution_count": null,
      "outputs": [
        {
          "output_type": "execute_result",
          "data": {
            "text/plain": [
              "912342424"
            ]
          },
          "metadata": {},
          "execution_count": 41
        }
      ]
    },
    {
      "cell_type": "code",
      "source": [
        "class astra2 :\n",
        "\n",
        "    mobile_num = 912342424\n",
        "\n",
        "    def __init__(self , name , email) :\n",
        "\n",
        "        self.name = name\n",
        "        self.email = email\n",
        "    @classmethod\n",
        "    def change_number(cls, mobile):\n",
        "        astra2.mobile_num = mobile\n",
        "\n",
        "    @classmethod\n",
        "    def details(cls ,name, email ):\n",
        "        return cls(name , email)\n",
        "\n",
        "    def students_details(self):\n",
        "        print(self.name , self.email)"
      ],
      "metadata": {
        "id": "sDke9tptwAWx"
      },
      "id": "sDke9tptwAWx",
      "execution_count": null,
      "outputs": []
    },
    {
      "cell_type": "code",
      "source": [
        "astra2.mobile_num"
      ],
      "metadata": {
        "id": "8wsdqFaJwC1U",
        "colab": {
          "base_uri": "https://localhost:8080/"
        },
        "outputId": "918195d8-e6d6-4434-d628-fe51f2a2b806"
      },
      "id": "8wsdqFaJwC1U",
      "execution_count": null,
      "outputs": [
        {
          "output_type": "execute_result",
          "data": {
            "text/plain": [
              "912342424"
            ]
          },
          "metadata": {},
          "execution_count": 43
        }
      ]
    },
    {
      "cell_type": "code",
      "source": [
        "astra2.change_number(80000)"
      ],
      "metadata": {
        "id": "_1HfqUPn7jsr"
      },
      "id": "_1HfqUPn7jsr",
      "execution_count": null,
      "outputs": []
    },
    {
      "cell_type": "code",
      "source": [
        "astra2.mobile_num"
      ],
      "metadata": {
        "colab": {
          "base_uri": "https://localhost:8080/"
        },
        "id": "70d8M7QP71hL",
        "outputId": "7d0e8168-ccf8-4aad-e425-a2422e379af4"
      },
      "id": "70d8M7QP71hL",
      "execution_count": null,
      "outputs": [
        {
          "output_type": "execute_result",
          "data": {
            "text/plain": [
              "80000"
            ]
          },
          "metadata": {},
          "execution_count": 45
        }
      ]
    },
    {
      "cell_type": "code",
      "execution_count": null,
      "id": "01b81558-5467-4e4d-bb7b-557a8a6857fe",
      "metadata": {
        "id": "01b81558-5467-4e4d-bb7b-557a8a6857fe"
      },
      "outputs": [],
      "source": [
        "class astra2 :\n",
        "\n",
        "    mobile_num = 912342424\n",
        "\n",
        "    def __init__(self , name , email) :\n",
        "\n",
        "        self.name = name\n",
        "        self.email = email\n",
        "\n",
        "    @classmethod\n",
        "    def change_number(cls, mobile):\n",
        "        astra2.mobile_num = mobile\n",
        "\n",
        "    @classmethod\n",
        "    def details(cls ,name, email ):\n",
        "        return cls(name , email)\n",
        "\n",
        "    def students_details(self):\n",
        "        print(self.name , self.email,astra2.mobile_num)"
      ]
    },
    {
      "cell_type": "code",
      "execution_count": null,
      "id": "e59ccef7-a844-409e-9144-d0a8d053245c",
      "metadata": {
        "id": "e59ccef7-a844-409e-9144-d0a8d053245c"
      },
      "outputs": [],
      "source": [
        "pw_obj = astra2(\"sudh\" , \"sudh@gmail.com\")"
      ]
    },
    {
      "cell_type": "code",
      "execution_count": null,
      "id": "737893ac-1c5e-4764-a08e-d596e4e939c8",
      "metadata": {
        "id": "737893ac-1c5e-4764-a08e-d596e4e939c8",
        "outputId": "748a2711-fb43-48f9-d6d4-c5c4f103c3c4",
        "colab": {
          "base_uri": "https://localhost:8080/"
        }
      },
      "outputs": [
        {
          "output_type": "stream",
          "name": "stdout",
          "text": [
            "sudh sudh@gmail.com 912342424\n"
          ]
        }
      ],
      "source": [
        "pw_obj.students_details()"
      ]
    },
    {
      "cell_type": "code",
      "source": [
        "pw=astra2.details(\"sunil\",\"sunil@gmail.com\")"
      ],
      "metadata": {
        "id": "96p1Z5It8uOJ"
      },
      "id": "96p1Z5It8uOJ",
      "execution_count": null,
      "outputs": []
    },
    {
      "cell_type": "code",
      "source": [
        "pw.students_details()"
      ],
      "metadata": {
        "colab": {
          "base_uri": "https://localhost:8080/"
        },
        "id": "xWqCi76B8uTG",
        "outputId": "215d7398-67df-4170-ca10-82458a0b8547"
      },
      "id": "xWqCi76B8uTG",
      "execution_count": null,
      "outputs": [
        {
          "output_type": "stream",
          "name": "stdout",
          "text": [
            "sunil sunil@gmail.com 912342424\n"
          ]
        }
      ]
    },
    {
      "cell_type": "code",
      "execution_count": null,
      "id": "8217da6d-10d3-40fe-bdb1-56fdd9ce9a7c",
      "metadata": {
        "id": "8217da6d-10d3-40fe-bdb1-56fdd9ce9a7c"
      },
      "outputs": [],
      "source": [
        "class astra3 :\n",
        "\n",
        "    mobile_num = 912342424\n",
        "\n",
        "    def __init__(self , name , email) :\n",
        "\n",
        "        self.name = name\n",
        "        self.email = email\n",
        "\n",
        "    @classmethod\n",
        "    def change_number(cls, mobile):\n",
        "        astra2.mobile_num = mobile\n",
        "\n",
        "    @classmethod\n",
        "    def details(cls ,name, email ):\n",
        "        return cls(name , email)\n",
        "\n",
        "    def students_details(self):\n",
        "        print(self.name , self.email,astra3.mobile_num)"
      ]
    },
    {
      "cell_type": "code",
      "execution_count": null,
      "id": "2e2f743e-9419-432f-b49d-cb8f8eda031a",
      "metadata": {
        "id": "2e2f743e-9419-432f-b49d-cb8f8eda031a"
      },
      "outputs": [],
      "source": [
        "def course_details(cls,course_name) :#external function\n",
        "    print(\"course name is \" , course_name)"
      ]
    },
    {
      "cell_type": "code",
      "source": [
        "astra3.course_details = classmethod(course_details)"
      ],
      "metadata": {
        "id": "9DDBkKpwNZvY"
      },
      "id": "9DDBkKpwNZvY",
      "execution_count": null,
      "outputs": []
    },
    {
      "cell_type": "code",
      "source": [
        "astra3.course_details(\"data science masters \")"
      ],
      "metadata": {
        "colab": {
          "base_uri": "https://localhost:8080/"
        },
        "id": "GPW83DxsNZyu",
        "outputId": "7b583494-eef3-4a50-e123-1f74ce9166f8"
      },
      "id": "GPW83DxsNZyu",
      "execution_count": null,
      "outputs": [
        {
          "output_type": "stream",
          "name": "stdout",
          "text": [
            "course name is  data science masters \n"
          ]
        }
      ]
    },
    {
      "cell_type": "code",
      "source": [
        "def course_details1(a) :#external function\n",
        "    print(\"course name is \")"
      ],
      "metadata": {
        "id": "p7-RIobnLlQb"
      },
      "id": "p7-RIobnLlQb",
      "execution_count": null,
      "outputs": []
    },
    {
      "cell_type": "code",
      "source": [
        "astra3.course_details1 = classmethod(course_details1)"
      ],
      "metadata": {
        "id": "HpM0CrQsL8IQ"
      },
      "id": "HpM0CrQsL8IQ",
      "execution_count": null,
      "outputs": []
    },
    {
      "cell_type": "code",
      "source": [
        "astra3.course_details1()"
      ],
      "metadata": {
        "colab": {
          "base_uri": "https://localhost:8080/"
        },
        "id": "qH3TJVdCMApt",
        "outputId": "0281dc32-aade-4912-fdb5-4641f120384f"
      },
      "id": "qH3TJVdCMApt",
      "execution_count": null,
      "outputs": [
        {
          "output_type": "stream",
          "name": "stdout",
          "text": [
            "course name is \n"
          ]
        }
      ]
    },
    {
      "cell_type": "code",
      "source": [
        "def course_details2(a,b) :#external function\n",
        "    print(f\"course name is {b}\")"
      ],
      "metadata": {
        "id": "f2YhsjNROn94"
      },
      "id": "f2YhsjNROn94",
      "execution_count": null,
      "outputs": []
    },
    {
      "cell_type": "code",
      "source": [
        "astra3.course_details2 = classmethod(course_details2)"
      ],
      "metadata": {
        "id": "XhOTbvdQOoJQ"
      },
      "id": "XhOTbvdQOoJQ",
      "execution_count": null,
      "outputs": []
    },
    {
      "cell_type": "code",
      "source": [
        "astra3.course_details2(\"Artifical intelligence\")"
      ],
      "metadata": {
        "colab": {
          "base_uri": "https://localhost:8080/"
        },
        "id": "jQVWa21HOoWH",
        "outputId": "257c3332-ed82-40ad-c405-509af910656e"
      },
      "id": "jQVWa21HOoWH",
      "execution_count": null,
      "outputs": [
        {
          "output_type": "stream",
          "name": "stdout",
          "text": [
            "course name is Artifical intelligence\n"
          ]
        }
      ]
    },
    {
      "cell_type": "code",
      "execution_count": null,
      "id": "43e15368-d349-4b07-b1e0-b1f5d5e00101",
      "metadata": {
        "id": "43e15368-d349-4b07-b1e0-b1f5d5e00101"
      },
      "outputs": [],
      "source": [
        "def mentor2(cls , list_of_mentor) :\n",
        "    print(list_of_mentor)"
      ]
    },
    {
      "cell_type": "code",
      "execution_count": null,
      "id": "834b203f-edca-4ecb-9d80-cd3f04e7d211",
      "metadata": {
        "id": "834b203f-edca-4ecb-9d80-cd3f04e7d211"
      },
      "outputs": [],
      "source": [
        "astra3.mentor1 = classmethod(mentor2)"
      ]
    },
    {
      "cell_type": "code",
      "execution_count": null,
      "id": "06a7d769-d65d-4344-851d-7f0a6bd56b50",
      "metadata": {
        "id": "06a7d769-d65d-4344-851d-7f0a6bd56b50",
        "outputId": "819f78b5-60f9-4f78-bfe0-7870d6bc6221",
        "colab": {
          "base_uri": "https://localhost:8080/"
        }
      },
      "outputs": [
        {
          "output_type": "stream",
          "name": "stdout",
          "text": [
            "['akshy ', 'rishav']\n"
          ]
        }
      ],
      "source": [
        "astra3.mentor([\"akshy \" , \"rishav\"])"
      ]
    },
    {
      "cell_type": "code",
      "source": [
        "astra3."
      ],
      "metadata": {
        "id": "kchuPMR7PuC_"
      },
      "id": "kchuPMR7PuC_",
      "execution_count": null,
      "outputs": []
    },
    {
      "cell_type": "code",
      "execution_count": null,
      "id": "1d1b219c-9d85-40e9-bdf7-2a9d7b730796",
      "metadata": {
        "id": "1d1b219c-9d85-40e9-bdf7-2a9d7b730796"
      },
      "outputs": [],
      "source": [
        "class astra4 :\n",
        "\n",
        "    mobile_num = 912342424\n",
        "\n",
        "    def __init__(self , name , email) :\n",
        "\n",
        "        self.name = name\n",
        "        self.email = email\n",
        "\n",
        "    @classmethod\n",
        "    def change_number(cls, mobile):\n",
        "        astra2.mobile_num = mobile\n",
        "\n",
        "    @classmethod\n",
        "    def details(cls ,name, email ):\n",
        "        return cls(name , email)\n",
        "\n",
        "    def students_details(self):\n",
        "        print(self.name , self.email,astra2.mobile_num)"
      ]
    },
    {
      "cell_type": "code",
      "execution_count": null,
      "id": "df830039-ab12-4fda-aeb3-39dc45716e72",
      "metadata": {
        "id": "df830039-ab12-4fda-aeb3-39dc45716e72"
      },
      "outputs": [],
      "source": [
        "del astra4.change_number"
      ]
    },
    {
      "cell_type": "code",
      "source": [
        "astra4.change_number(24342)"
      ],
      "metadata": {
        "colab": {
          "base_uri": "https://localhost:8080/",
          "height": 175
        },
        "id": "8ARZBD2Z_Ldt",
        "outputId": "02f7a586-b14a-4d51-cd46-a62146e64b47"
      },
      "id": "8ARZBD2Z_Ldt",
      "execution_count": null,
      "outputs": [
        {
          "output_type": "error",
          "ename": "AttributeError",
          "evalue": "type object 'astra4' has no attribute 'change_number'",
          "traceback": [
            "\u001b[0;31m---------------------------------------------------------------------------\u001b[0m",
            "\u001b[0;31mAttributeError\u001b[0m                            Traceback (most recent call last)",
            "\u001b[0;32m<ipython-input-34-ebfcdcf6f4ae>\u001b[0m in \u001b[0;36m<cell line: 1>\u001b[0;34m()\u001b[0m\n\u001b[0;32m----> 1\u001b[0;31m \u001b[0mastra4\u001b[0m\u001b[0;34m.\u001b[0m\u001b[0mchange_number\u001b[0m\u001b[0;34m(\u001b[0m\u001b[0;36m24342\u001b[0m\u001b[0;34m)\u001b[0m\u001b[0;34m\u001b[0m\u001b[0;34m\u001b[0m\u001b[0m\n\u001b[0m",
            "\u001b[0;31mAttributeError\u001b[0m: type object 'astra4' has no attribute 'change_number'"
          ]
        }
      ]
    },
    {
      "cell_type": "code",
      "execution_count": null,
      "id": "65e6569e-2f8d-48cf-973f-0b4301ca0ea5",
      "metadata": {
        "id": "65e6569e-2f8d-48cf-973f-0b4301ca0ea5"
      },
      "outputs": [],
      "source": [
        "delattr( astra4 ,\"details\" )"
      ]
    },
    {
      "cell_type": "code",
      "execution_count": null,
      "id": "410a176e-e462-4ed0-bf6d-3a9dcc70f85a",
      "metadata": {
        "id": "410a176e-e462-4ed0-bf6d-3a9dcc70f85a"
      },
      "outputs": [],
      "source": [
        "delattr( astra4 ,\"students_details\")"
      ]
    },
    {
      "cell_type": "code",
      "execution_count": null,
      "id": "db057167-a4a9-4f4a-a470-a7487188afad",
      "metadata": {
        "id": "db057167-a4a9-4f4a-a470-a7487188afad"
      },
      "outputs": [],
      "source": [
        "delattr( astra4 , \"mobile_num\")"
      ]
    },
    {
      "cell_type": "code",
      "execution_count": null,
      "id": "585f83a6-52f4-47f9-8e43-1244e975023a",
      "metadata": {
        "id": "585f83a6-52f4-47f9-8e43-1244e975023a"
      },
      "outputs": [],
      "source": []
    }
  ],
  "metadata": {
    "kernelspec": {
      "display_name": "Python 3 (ipykernel)",
      "language": "python",
      "name": "python3"
    },
    "language_info": {
      "codemirror_mode": {
        "name": "ipython",
        "version": 3
      },
      "file_extension": ".py",
      "mimetype": "text/x-python",
      "name": "python",
      "nbconvert_exporter": "python",
      "pygments_lexer": "ipython3",
      "version": "3.10.8"
    },
    "colab": {
      "provenance": []
    }
  },
  "nbformat": 4,
  "nbformat_minor": 5
}